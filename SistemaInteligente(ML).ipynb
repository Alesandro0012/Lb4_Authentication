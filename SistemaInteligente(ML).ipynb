{
  "cells": [
    {
      "cell_type": "markdown",
      "metadata": {
        "id": "view-in-github",
        "colab_type": "text"
      },
      "source": [
        "<a href=\"https://colab.research.google.com/github/Alesandro0012/Lb4_Authentication/blob/main/SistemaInteligente(ML).ipynb\" target=\"_parent\"><img src=\"https://colab.research.google.com/assets/colab-badge.svg\" alt=\"Open In Colab\"/></a>"
      ]
    },
    {
      "cell_type": "code",
      "source": [
        "import pandas as pd\n"
      ],
      "metadata": {
        "id": "KF5hUMyxvitt"
      },
      "execution_count": 1,
      "outputs": []
    },
    {
      "cell_type": "code",
      "source": [
        " car = pd.read_csv (\"car.data\")"
      ],
      "metadata": {
        "id": "k03v2VzdvuKG"
      },
      "execution_count": 5,
      "outputs": []
    },
    {
      "cell_type": "code",
      "source": [
        "car = pd.read_csv(\"car.data\", sep=\",\", encoding=\"utf-8\", skiprows=0, usecols=[0, 1, 2, 5, 6])"
      ],
      "metadata": {
        "id": "JklPPjtoxHQl"
      },
      "execution_count": 18,
      "outputs": []
    },
    {
      "cell_type": "code",
      "source": [
        "print(car.head())"
      ],
      "metadata": {
        "id": "vpPFH-MUyRLL",
        "outputId": "8520477d-1385-4641-e23a-69256e0d6787",
        "colab": {
          "base_uri": "https://localhost:8080/"
        }
      },
      "execution_count": 19,
      "outputs": [
        {
          "output_type": "stream",
          "name": "stdout",
          "text": [
            "   vhigh vhigh.1  2   low  unacc\n",
            "0  vhigh   vhigh  2   med  unacc\n",
            "1  vhigh   vhigh  2  high  unacc\n",
            "2  vhigh   vhigh  2   low  unacc\n",
            "3  vhigh   vhigh  2   med  unacc\n",
            "4  vhigh   vhigh  2  high  unacc\n"
          ]
        }
      ]
    },
    {
      "cell_type": "code",
      "source": [
        "import pandas as pd\n"
      ],
      "metadata": {
        "id": "0hIg-9fZ4FjI"
      },
      "execution_count": 20,
      "outputs": []
    },
    {
      "cell_type": "code",
      "source": [
        "diabete = pd.read_csv(\"diabetes.csv\")"
      ],
      "metadata": {
        "id": "eqAJPi-V4J56"
      },
      "execution_count": 21,
      "outputs": []
    },
    {
      "cell_type": "code",
      "source": [
        "print(diabete.head())"
      ],
      "metadata": {
        "id": "1WrNi9mX4pJy",
        "outputId": "995fbc49-d1e1-4b63-e620-a8d8f2826f1e",
        "colab": {
          "base_uri": "https://localhost:8080/"
        }
      },
      "execution_count": 22,
      "outputs": [
        {
          "output_type": "stream",
          "name": "stdout",
          "text": [
            "   Pregnancies  Glucose  BloodPressure  SkinThickness  Insulin   BMI  \\\n",
            "0            6      148             72             35        0  33.6   \n",
            "1            8      183             64              0        0  23.3   \n",
            "2            0      137             40             35      168  43.1   \n",
            "3            3       78             50             32       88  31.0   \n",
            "4            2      197             70             45      543  30.5   \n",
            "\n",
            "   DiabetesPedigreeFunction  Age  Outcome  \n",
            "0                     0.627   50        1  \n",
            "1                     0.672   32        1  \n",
            "2                     2.288   33        1  \n",
            "3                     0.248   26        1  \n",
            "4                     0.158   53        1  \n"
          ]
        }
      ]
    },
    {
      "cell_type": "code",
      "source": [
        "import numpy as np"
      ],
      "metadata": {
        "id": "yy7jF87Y-a-m"
      },
      "execution_count": 23,
      "outputs": []
    },
    {
      "cell_type": "code",
      "source": [
        "movement_libra = np.arange(15)"
      ],
      "metadata": {
        "id": "3V2_leRy-d6V"
      },
      "execution_count": 40,
      "outputs": []
    },
    {
      "cell_type": "code",
      "source": [
        "primeira_metade = len(\"movement_libra.data\") // 2\n",
        "segunda_metade = len(\"movement_libra.data\") // 2"
      ],
      "metadata": {
        "id": "gzEpJPhO-lrv"
      },
      "execution_count": 38,
      "outputs": []
    },
    {
      "cell_type": "code",
      "source": [
        "primeira_metade = movement_libra.data[:primeira_metade]\n",
        "segunda_metade = movement_libra.data[:segunda_metade]"
      ],
      "metadata": {
        "id": "AyZZbcLH_PFq"
      },
      "execution_count": 41,
      "outputs": []
    },
    {
      "cell_type": "code",
      "source": [
        "print(\"Dataset original:\", movement_libra)\n",
        "print(\"Dataset primeira metade:\", movement_libra)\n",
        "print(\"Dataset segunda metade:\", movement_libra)"
      ],
      "metadata": {
        "id": "Z2XVwjOmDQot",
        "outputId": "0634fac1-a9e5-440e-e3c1-4ae268017ba1",
        "colab": {
          "base_uri": "https://localhost:8080/"
        }
      },
      "execution_count": 49,
      "outputs": [
        {
          "output_type": "stream",
          "name": "stdout",
          "text": [
            "Dataset original: [ 0  1  2  3  4  5  6  7  8  9 10 11 12 13 14]\n",
            "Dataset primeira metade: [ 0  1  2  3  4  5  6  7  8  9 10 11 12 13 14]\n",
            "Dataset segunda metade: [ 0  1  2  3  4  5  6  7  8  9 10 11 12 13 14]\n"
          ]
        }
      ]
    }
  ],
  "metadata": {
    "colab": {
      "name": "Damos-lhe as boas-vindas ao Colaboratory",
      "provenance": [],
      "include_colab_link": true
    },
    "kernelspec": {
      "display_name": "Python 3",
      "name": "python3"
    }
  },
  "nbformat": 4,
  "nbformat_minor": 0
}